{
 "cells": [
  {
   "cell_type": "code",
   "execution_count": 17,
   "id": "e7385e1c-8ee0-4359-be4b-dcd48004d02a",
   "metadata": {},
   "outputs": [],
   "source": [
    "import torch\n",
    "import torch.nn.functional as F\n",
    "import matplotlib.pyplot as plt # for making figures\n",
    "%matplotlib inline"
   ]
  },
  {
   "cell_type": "code",
   "execution_count": 18,
   "id": "32e6598b-d4f5-4d24-9f91-af0510a511c3",
   "metadata": {},
   "outputs": [
    {
     "data": {
      "text/plain": [
       "['emma', 'olivia', 'ava', 'isabella', 'sophia', 'charlotte', 'mia', 'amelia']"
      ]
     },
     "execution_count": 18,
     "metadata": {},
     "output_type": "execute_result"
    }
   ],
   "source": [
    "# read in all the words\n",
    "words = open('names.txt', 'r').read().splitlines()\n",
    "words[:8]"
   ]
  },
  {
   "cell_type": "code",
   "execution_count": 19,
   "id": "2c5cf8ba-f543-4d94-b69f-b0db24cfa3d2",
   "metadata": {},
   "outputs": [
    {
     "data": {
      "text/plain": [
       "32033"
      ]
     },
     "execution_count": 19,
     "metadata": {},
     "output_type": "execute_result"
    }
   ],
   "source": [
    "len(words)"
   ]
  },
  {
   "cell_type": "code",
   "execution_count": 20,
   "id": "0e3c0550-12bc-4ef2-b8e5-19710d825a90",
   "metadata": {},
   "outputs": [
    {
     "name": "stdout",
     "output_type": "stream",
     "text": [
      "{1: 'a', 2: 'b', 3: 'c', 4: 'd', 5: 'e', 6: 'f', 7: 'g', 8: 'h', 9: 'i', 10: 'j', 11: 'k', 12: 'l', 13: 'm', 14: 'n', 15: 'o', 16: 'p', 17: 'q', 18: 'r', 19: 's', 20: 't', 21: 'u', 22: 'v', 23: 'w', 24: 'x', 25: 'y', 26: 'z', 0: '.'}\n",
      "27\n"
     ]
    }
   ],
   "source": [
    "# build the vocabulary of characters and mappings to/from integers\n",
    "chars = sorted(list(set(''.join(words))))\n",
    "stoi = {s:i+1 for i,s in enumerate(chars)}\n",
    "stoi['.'] = 0\n",
    "itos = {i:s for s,i in stoi.items()}\n",
    "vocab_size = len(itos)\n",
    "print(itos)\n",
    "print(vocab_size)"
   ]
  },
  {
   "cell_type": "code",
   "execution_count": 21,
   "id": "9df13404-da83-4bf7-aabc-e8130c940c3e",
   "metadata": {},
   "outputs": [
    {
     "name": "stdout",
     "output_type": "stream",
     "text": [
      "torch.Size([182625, 3]) torch.Size([182625])\n",
      "torch.Size([22655, 3]) torch.Size([22655])\n",
      "torch.Size([22866, 3]) torch.Size([22866])\n"
     ]
    }
   ],
   "source": [
    "# build the dataset\n",
    "block_size = 3 # context length: how many characters do we take to predict the next one?\n",
    "\n",
    "def build_dataset(words):  \n",
    "  X, Y = [], []\n",
    "  \n",
    "  for w in words:\n",
    "    context = [0] * block_size\n",
    "    for ch in w + '.':\n",
    "      ix = stoi[ch]\n",
    "      X.append(context)\n",
    "      Y.append(ix)\n",
    "      context = context[1:] + [ix] # crop and append\n",
    "\n",
    "  X = torch.tensor(X)\n",
    "  Y = torch.tensor(Y)\n",
    "  print(X.shape, Y.shape)\n",
    "  return X, Y\n",
    "\n",
    "import random\n",
    "random.seed(42)\n",
    "random.shuffle(words)\n",
    "n1 = int(0.8*len(words))\n",
    "n2 = int(0.9*len(words))\n",
    "\n",
    "Xtr,  Ytr  = build_dataset(words[:n1])     # 80%\n",
    "Xdev, Ydev = build_dataset(words[n1:n2])   # 10%\n",
    "Xte,  Yte  = build_dataset(words[n2:])     # 10%"
   ]
  },
  {
   "cell_type": "code",
   "execution_count": 31,
   "id": "283651f5-0ce2-406f-abc7-97ef2f008709",
   "metadata": {},
   "outputs": [
    {
     "name": "stdout",
     "output_type": "stream",
     "text": [
      "11897\n"
     ]
    }
   ],
   "source": [
    "# MLP revisited\n",
    "n_embd = 10 # the dimensionality of the character embedding vectors\n",
    "n_hidden = 200 # the number of neurons in the hidden layer of the MLP\n",
    "\n",
    "g = torch.Generator().manual_seed(2147483647) # for reproducibility\n",
    "C  = torch.randn((vocab_size, n_embd),            generator=g)\n",
    "W1 = torch.randn((n_embd * block_size, n_hidden), generator=g) * 0.2 # * (5/3)/((n_embd * block_size)**0.5) #* 0.2\n",
    "b1 = torch.randn(n_hidden,                        generator=g) * 0.01\n",
    "W2 = torch.randn((n_hidden, vocab_size),          generator=g) * 0.01\n",
    "b2 = torch.randn(vocab_size,                      generator=g) * 0\n",
    "\n",
    "# BatchNorm parameters\n",
    "# bngain = torch.ones((1, n_hidden))\n",
    "# bnbias = torch.zeros((1, n_hidden))\n",
    "# bnmean_running = torch.zeros((1, n_hidden))\n",
    "# bnstd_running = torch.ones((1, n_hidden))\n",
    "\n",
    "parameters = [C, W1, b1, W2, b2] # , bngain, bnbias]\n",
    "print(sum(p.nelement() for p in parameters)) # number of parameters in total\n",
    "for p in parameters:\n",
    "  p.requires_grad = True"
   ]
  },
  {
   "cell_type": "code",
   "execution_count": 32,
   "id": "22c957c9-3786-4f7c-9c83-8660e90cee81",
   "metadata": {},
   "outputs": [
    {
     "name": "stdout",
     "output_type": "stream",
     "text": [
      "      0/ 200000: 3.3135\n",
      "  10000/ 200000: 2.1648\n",
      "  20000/ 200000: 2.3061\n",
      "  30000/ 200000: 2.4541\n",
      "  40000/ 200000: 1.9787\n",
      "  50000/ 200000: 2.2930\n",
      "  60000/ 200000: 2.4232\n",
      "  70000/ 200000: 2.0680\n",
      "  80000/ 200000: 2.3095\n",
      "  90000/ 200000: 2.1207\n",
      " 100000/ 200000: 1.8269\n",
      " 110000/ 200000: 2.2045\n",
      " 120000/ 200000: 1.9797\n",
      " 130000/ 200000: 2.3946\n",
      " 140000/ 200000: 2.1000\n",
      " 150000/ 200000: 2.1948\n",
      " 160000/ 200000: 1.8619\n",
      " 170000/ 200000: 1.7809\n",
      " 180000/ 200000: 1.9673\n",
      " 190000/ 200000: 1.8295\n"
     ]
    }
   ],
   "source": [
    "# same optimization as last time\n",
    "max_steps = 200000\n",
    "batch_size = 32\n",
    "lossi = []\n",
    "\n",
    "for i in range(max_steps):\n",
    "  \n",
    "  # minibatch construct\n",
    "  ix = torch.randint(0, Xtr.shape[0], (batch_size,), generator=g)\n",
    "  Xb, Yb = Xtr[ix], Ytr[ix] # batch X,Y\n",
    "\n",
    "  # forward pass\n",
    "  emb = C[Xb] # embed the characters into vectors\n",
    "  embcat = emb.view(emb.shape[0], -1) # concatenate the vectors\n",
    "  # Linear layer\n",
    "  hpreact = embcat @ W1 + b1 # hidden layer pre-activation\n",
    "  # BatchNorm layer\n",
    "  # -------------------------------------------------------------\n",
    "  # bnmeani = hpreact.mean(0, keepdim=True)\n",
    "  # bnstdi = hpreact.std(0, keepdim=True)\n",
    "  # hpreact = bngain * (hpreact - bnmeani) / bnstdi + bnbias\n",
    "  # with torch.no_grad():\n",
    "  #   bnmean_running = 0.999 * bnmean_running + 0.001 * bnmeani\n",
    "  #   bnstd_running = 0.999 * bnstd_running + 0.001 * bnstdi\n",
    "  # -------------------------------------------------------------\n",
    "  # Non-linearity\n",
    "  h = torch.tanh(hpreact) # hidden layer\n",
    "  logits = h @ W2 + b2 # output layer\n",
    "  loss = F.cross_entropy(logits, Yb) # loss function\n",
    "  \n",
    "  # backward pass\n",
    "  for p in parameters:\n",
    "    p.grad = None\n",
    "  loss.backward()\n",
    "  \n",
    "  # update\n",
    "  lr = 0.1 if i < 100000 else 0.01 # step learning rate decay\n",
    "  for p in parameters:\n",
    "    p.data += -lr * p.grad\n",
    "\n",
    "  # track stats\n",
    "  if i % 10000 == 0: # print every once in a while\n",
    "    print(f'{i:7d}/{max_steps:7d}: {loss.item():.4f}')\n",
    "  lossi.append(loss.log10().item())\n",
    "  "
   ]
  },
  {
   "cell_type": "code",
   "execution_count": 41,
   "id": "8da98f6b-f58e-4d0c-9a92-d6e1a2e7a4e9",
   "metadata": {},
   "outputs": [
    {
     "data": {
      "text/plain": [
       "<matplotlib.image.AxesImage at 0x7f2bbce41d60>"
      ]
     },
     "execution_count": 41,
     "metadata": {},
     "output_type": "execute_result"
    },
    {
     "data": {
      "image/png": "[encoded data removed]",
      "text/plain": [
       "<Figure size 2000x1000 with 1 Axes>"
      ]
     },
     "metadata": {},
     "output_type": "display_data"
    }
   ],
   "source": [
    "plt.figure(figsize=(20,10))\n",
    "plt.imshow(h.abs() > 0.99, cmap='gray', interpolation='nearest')"
   ]
  },
  {
   "cell_type": "code",
   "execution_count": 40,
   "id": "0c061154-a8b1-4800-9c45-326b5f43ad00",
   "metadata": {},
   "outputs": [
    {
     "data": {
      "text/plain": [
       "(array([ 959.,  218.,  145.,  120.,  103.,  102.,   72.,   85.,   75.,\n",
       "          70.,   69.,   74.,   69.,   68.,   76.,   65.,   49.,   77.,\n",
       "          49.,  105.,   90.,   91.,  107.,   87.,   92.,  124.,  133.,\n",
       "         101.,  101.,  120.,   71.,   86.,   60.,   73.,   44.,   73.,\n",
       "          55.,   59.,   37.,   63.,   64.,   59.,   81.,   76.,   78.,\n",
       "         133.,  130.,  143.,  261., 1058.]),\n",
       " array([-1.00000000e+00, -9.60000001e-01, -9.20000002e-01, -8.80000004e-01,\n",
       "        -8.40000005e-01, -8.00000006e-01, -7.60000007e-01, -7.20000008e-01,\n",
       "        -6.80000010e-01, -6.40000011e-01, -6.00000012e-01, -5.60000013e-01,\n",
       "        -5.20000014e-01, -4.80000015e-01, -4.40000017e-01, -4.00000018e-01,\n",
       "        -3.60000019e-01, -3.20000020e-01, -2.80000021e-01, -2.40000023e-01,\n",
       "        -2.00000024e-01, -1.60000025e-01, -1.20000026e-01, -8.00000274e-02,\n",
       "        -4.00000286e-02, -2.98023224e-08,  3.99999690e-02,  7.99999678e-02,\n",
       "         1.19999967e-01,  1.59999965e-01,  1.99999964e-01,  2.39999963e-01,\n",
       "         2.79999962e-01,  3.19999961e-01,  3.59999959e-01,  3.99999958e-01,\n",
       "         4.39999957e-01,  4.79999956e-01,  5.19999955e-01,  5.59999954e-01,\n",
       "         5.99999952e-01,  6.39999951e-01,  6.79999950e-01,  7.19999949e-01,\n",
       "         7.59999948e-01,  7.99999946e-01,  8.39999945e-01,  8.79999944e-01,\n",
       "         9.19999943e-01,  9.59999942e-01,  9.99999940e-01]),\n",
       " <BarContainer object of 50 artists>)"
      ]
     },
     "execution_count": 40,
     "metadata": {},
     "output_type": "execute_result"
    },
    {
     "data": {
      "image/png": "[encoded data removed]",
      "text/plain": [
       "<Figure size 640x480 with 1 Axes>"
      ]
     },
     "metadata": {},
     "output_type": "display_data"
    }
   ],
   "source": [
    "plt.hist(h.view(-1).tolist(), 50)"
   ]
  },
  {
   "cell_type": "code",
   "execution_count": 43,
   "id": "9c230cbb-d7c6-4e13-a294-ac8c44139d60",
   "metadata": {},
   "outputs": [
    {
     "name": "stdout",
     "output_type": "stream",
     "text": [
      "tensor(0.0042) tensor(1.0016)\n",
      "tensor(0.0012) tensor(0.9973)\n"
     ]
    },
    {
     "data": {
      "text/plain": [
       "(array([3.82535299e-05, 3.82535299e-05, 3.82535299e-05, 1.53014120e-04,\n",
       "        2.10394414e-04, 3.25155004e-04, 5.16422653e-04, 1.14760590e-03,\n",
       "        2.06569061e-03, 3.06028239e-03, 6.35008596e-03, 1.02901995e-02,\n",
       "        1.86103423e-02, 2.89961757e-02, 5.01121242e-02, 7.51490595e-02,\n",
       "        1.15525660e-01, 1.70706377e-01, 2.34704533e-01, 3.08246944e-01,\n",
       "        3.75401016e-01, 4.25570520e-01, 4.34081930e-01, 4.02886177e-01,\n",
       "        3.35674725e-01, 2.65479497e-01, 1.91822326e-01, 1.34365524e-01,\n",
       "        8.77344708e-02, 5.85661543e-02, 3.55566560e-02, 2.15941176e-02,\n",
       "        1.29679466e-02, 7.19166362e-03, 4.07400093e-03, 2.92639504e-03,\n",
       "        1.49188767e-03, 7.26817068e-04, 3.44281769e-04, 3.44281769e-04,\n",
       "        1.33887355e-04, 5.73802948e-05, 3.82535299e-05, 1.91267649e-05,\n",
       "        0.00000000e+00, 0.00000000e+00, 0.00000000e+00, 0.00000000e+00,\n",
       "        0.00000000e+00, 1.91267649e-05]),\n",
       " array([-5.79936075, -5.53794697, -5.27653318, -5.0151194 , -4.75370562,\n",
       "        -4.49229183, -4.23087805, -3.96946426, -3.70805048, -3.4466367 ,\n",
       "        -3.18522291, -2.92380913, -2.66239534, -2.40098156, -2.13956778,\n",
       "        -1.87815399, -1.61674021, -1.35532642, -1.09391264, -0.83249886,\n",
       "        -0.57108507, -0.30967129, -0.0482575 ,  0.21315628,  0.47457006,\n",
       "         0.73598385,  0.99739763,  1.25881142,  1.5202252 ,  1.78163898,\n",
       "         2.04305277,  2.30446655,  2.56588034,  2.82729412,  3.0887079 ,\n",
       "         3.35012169,  3.61153547,  3.87294926,  4.13436304,  4.39577682,\n",
       "         4.65719061,  4.91860439,  5.18001818,  5.44143196,  5.70284575,\n",
       "         5.96425953,  6.22567331,  6.4870871 ,  6.74850088,  7.00991467,\n",
       "         7.27132845]),\n",
       " <BarContainer object of 50 artists>)"
      ]
     },
     "execution_count": 43,
     "metadata": {},
     "output_type": "execute_result"
    },
    {
     "data": {
      "image/png": "[encoded data removed]",
      "text/plain": [
       "<Figure size 2000x500 with 2 Axes>"
      ]
     },
     "metadata": {},
     "output_type": "display_data"
    }
   ],
   "source": [
    "scaling_factor = 10 ** 0.5\n",
    "x = torch.randn(1000, 10)\n",
    "w = torch.randn(10, 200) / scaling_factor\n",
    "y = x @ w\n",
    "print(x.mean(), x.std())\n",
    "print(y.mean(), y.std())\n",
    "plt.figure(figsize=(20,5))\n",
    "plt.subplot(121)\n",
    "plt.hist(x.view(-1).tolist(), 50, density=True)\n",
    "plt.subplot(122)\n",
    "plt.hist(y.view(-1).tolist(), 50, density=True)"
   ]
  },
  {
   "cell_type": "code",
   "execution_count": 38,
   "id": "d5e251f3-bd88-429e-b67e-85fc6fc7943c",
   "metadata": {},
   "outputs": [
    {
     "data": {
      "text/plain": [
       "[<matplotlib.lines.Line2D at 0x7f2b86edc5c0>]"
      ]
     },
     "execution_count": 38,
     "metadata": {},
     "output_type": "execute_result"
    },
    {
     "data": {
      "image/png": "[encoded data removed]",
      "text/plain": [
       "<Figure size 640x480 with 1 Axes>"
      ]
     },
     "metadata": {},
     "output_type": "display_data"
    }
   ],
   "source": [
    "plt.plot(lossi)"
   ]
  },
  {
   "cell_type": "code",
   "execution_count": 39,
   "id": "502e9cea-8ce5-468c-80d5-b31d31ebb7d3",
   "metadata": {},
   "outputs": [
    {
     "name": "stdout",
     "output_type": "stream",
     "text": [
      "train 2.0355966091156006\n",
      "val 2.1026782989501953\n"
     ]
    }
   ],
   "source": [
    "@torch.no_grad() # this decorator disables gradient tracking\n",
    "def split_loss(split):\n",
    "  x,y = {\n",
    "    'train': (Xtr, Ytr),\n",
    "    'val': (Xdev, Ydev),\n",
    "    'test': (Xte, Yte),\n",
    "  }[split]\n",
    "  emb = C[x] # (N, block_size, n_embd)\n",
    "  embcat = emb.view(emb.shape[0], -1) # concat into (N, block_size * n_embd)\n",
    "  hpreact = embcat @ W1 + b1\n",
    "  # hpreact = bngain * (hpreact - hpreact.mean(0, keepdim=True)) / hpreact.std(0, keepdim=True) + bnbias\n",
    "  # hpreact = bngain * (hpreact - bnmean_running) / bnstd_running + bnbias\n",
    "  h = torch.tanh(hpreact) # (N, n_hidden)\n",
    "  logits = h @ W2 + b2 # (N, vocab_size)\n",
    "  loss = F.cross_entropy(logits, y)\n",
    "  print(split, loss.item())\n",
    "\n",
    "split_loss('train')\n",
    "split_loss('val')"
   ]
  },
  {
   "cell_type": "code",
   "execution_count": 14,
   "id": "e389ecae-5be2-42af-8377-2447d71fe6b9",
   "metadata": {},
   "outputs": [
    {
     "name": "stdout",
     "output_type": "stream",
     "text": [
      "mora.\n",
      "mayah.\n",
      "see.\n",
      "mel.\n",
      "ryllo.\n",
      "emmrclendrami.\n",
      "adered.\n",
      "elin.\n",
      "shyloe.\n",
      "leigh.\n",
      "estanar.\n",
      "kayziquetra.\n",
      "noshubergahimiest.\n",
      "jairenellonnie.\n",
      "casu.\n",
      "zen.\n",
      "dariyah.\n",
      "faeh.\n",
      "yuma.\n",
      "myston.\n"
     ]
    }
   ],
   "source": [
    "# sample from the model\n",
    "g = torch.Generator().manual_seed(2147483647 + 10)\n",
    "\n",
    "for _ in range(20):\n",
    "    \n",
    "    out = []\n",
    "    context = [0] * block_size # initialize with all ...\n",
    "    while True:\n",
    "      # forward pass the neural net\n",
    "      emb = C[torch.tensor([context])] # (1,block_size,n_embd)\n",
    "      x = emb.view(emb.shape[0], -1) # concatenate the vectors\n",
    "      h = torch.tanh(x @ W1 + b1)\n",
    "      logits = h @ W2 + b2\n",
    "      probs = F.softmax(logits, dim=1)\n",
    "      # sample from the distribution\n",
    "      ix = torch.multinomial(probs, num_samples=1, generator=g).item()\n",
    "      # shift the context window and track the samples\n",
    "      context = context[1:] + [ix]\n",
    "      out.append(ix)\n",
    "      # if we sample the special '.' token, break\n",
    "      if ix == 0:\n",
    "        break\n",
    "    \n",
    "    print(''.join(itos[i] for i in out)) # decode and print the generated word"
   ]
  }
 ],
 "metadata": {
  "kernelspec": {
   "display_name": "Python 3 (ipykernel)",
   "language": "python",
   "name": "python3"
  },
  "language_info": {
   "codemirror_mode": {
    "name": "ipython",
    "version": 3
   },
   "file_extension": ".py",
   "mimetype": "text/x-python",
   "name": "python",
   "nbconvert_exporter": "python",
   "pygments_lexer": "ipython3",
   "version": "3.12.5"
  }
 },
 "nbformat": 4,
 "nbformat_minor": 5
}
