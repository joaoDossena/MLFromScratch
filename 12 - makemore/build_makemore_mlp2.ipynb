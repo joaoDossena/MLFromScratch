{
 "cells": [
  {
   "cell_type": "code",
   "execution_count": 1,
   "id": "e7385e1c-8ee0-4359-be4b-dcd48004d02a",
   "metadata": {},
   "outputs": [],
   "source": [
    "import torch\n",
    "import torch.nn.functional as F\n",
    "import matplotlib.pyplot as plt # for making figures\n",
    "%matplotlib inline"
   ]
  },
  {
   "cell_type": "code",
   "execution_count": 2,
   "id": "32e6598b-d4f5-4d24-9f91-af0510a511c3",
   "metadata": {},
   "outputs": [
    {
     "data": {
      "text/plain": [
       "['emma', 'olivia', 'ava', 'isabella', 'sophia', 'charlotte', 'mia', 'amelia']"
      ]
     },
     "execution_count": 2,
     "metadata": {},
     "output_type": "execute_result"
    }
   ],
   "source": [
    "# read in all the words\n",
    "words = open('names.txt', 'r').read().splitlines()\n",
    "words[:8]"
   ]
  },
  {
   "cell_type": "code",
   "execution_count": 3,
   "id": "2c5cf8ba-f543-4d94-b69f-b0db24cfa3d2",
   "metadata": {},
   "outputs": [
    {
     "data": {
      "text/plain": [
       "32033"
      ]
     },
     "execution_count": 3,
     "metadata": {},
     "output_type": "execute_result"
    }
   ],
   "source": [
    "len(words)"
   ]
  },
  {
   "cell_type": "code",
   "execution_count": 4,
   "id": "0e3c0550-12bc-4ef2-b8e5-19710d825a90",
   "metadata": {},
   "outputs": [
    {
     "name": "stdout",
     "output_type": "stream",
     "text": [
      "{1: 'a', 2: 'b', 3: 'c', 4: 'd', 5: 'e', 6: 'f', 7: 'g', 8: 'h', 9: 'i', 10: 'j', 11: 'k', 12: 'l', 13: 'm', 14: 'n', 15: 'o', 16: 'p', 17: 'q', 18: 'r', 19: 's', 20: 't', 21: 'u', 22: 'v', 23: 'w', 24: 'x', 25: 'y', 26: 'z', 0: '.'}\n",
      "27\n"
     ]
    }
   ],
   "source": [
    "# build the vocabulary of characters and mappings to/from integers\n",
    "chars = sorted(list(set(''.join(words))))\n",
    "stoi = {s:i+1 for i,s in enumerate(chars)}\n",
    "stoi['.'] = 0\n",
    "itos = {i:s for s,i in stoi.items()}\n",
    "vocab_size = len(itos)\n",
    "print(itos)\n",
    "print(vocab_size)"
   ]
  },
  {
   "cell_type": "code",
   "execution_count": 5,
   "id": "9df13404-da83-4bf7-aabc-e8130c940c3e",
   "metadata": {},
   "outputs": [
    {
     "name": "stdout",
     "output_type": "stream",
     "text": [
      "torch.Size([182625, 3]) torch.Size([182625])\n",
      "torch.Size([22655, 3]) torch.Size([22655])\n",
      "torch.Size([22866, 3]) torch.Size([22866])\n"
     ]
    }
   ],
   "source": [
    "# build the dataset\n",
    "block_size = 3 # context length: how many characters do we take to predict the next one?\n",
    "\n",
    "def build_dataset(words):  \n",
    "  X, Y = [], []\n",
    "  \n",
    "  for w in words:\n",
    "    context = [0] * block_size\n",
    "    for ch in w + '.':\n",
    "      ix = stoi[ch]\n",
    "      X.append(context)\n",
    "      Y.append(ix)\n",
    "      context = context[1:] + [ix] # crop and append\n",
    "\n",
    "  X = torch.tensor(X)\n",
    "  Y = torch.tensor(Y)\n",
    "  print(X.shape, Y.shape)\n",
    "  return X, Y\n",
    "\n",
    "import random\n",
    "random.seed(42)\n",
    "random.shuffle(words)\n",
    "n1 = int(0.8*len(words))\n",
    "n2 = int(0.9*len(words))\n",
    "\n",
    "Xtr,  Ytr  = build_dataset(words[:n1])     # 80%\n",
    "Xdev, Ydev = build_dataset(words[n1:n2])   # 10%\n",
    "Xte,  Yte  = build_dataset(words[n2:])     # 10%"
   ]
  },
  {
   "cell_type": "code",
   "execution_count": 6,
   "id": "283651f5-0ce2-406f-abc7-97ef2f008709",
   "metadata": {},
   "outputs": [
    {
     "name": "stdout",
     "output_type": "stream",
     "text": [
      "12297\n"
     ]
    }
   ],
   "source": [
    "# MLP revisited\n",
    "n_embd = 10 # the dimensionality of the character embedding vectors\n",
    "n_hidden = 200 # the number of neurons in the hidden layer of the MLP\n",
    "\n",
    "g = torch.Generator().manual_seed(2147483647) # for reproducibility\n",
    "C  = torch.randn((vocab_size, n_embd),            generator=g)\n",
    "W1 = torch.randn((n_embd * block_size, n_hidden), generator=g) * (5/3)/((n_embd * block_size)**0.5) #* 0.2\n",
    "# b1 = torch.randn(n_hidden,                        generator=g) * 0.01\n",
    "W2 = torch.randn((n_hidden, vocab_size),          generator=g) * 0.01\n",
    "b2 = torch.randn(vocab_size,                      generator=g) * 0\n",
    "\n",
    "# BatchNorm parameters\n",
    "bngain = torch.ones((1, n_hidden))\n",
    "bnbias = torch.zeros((1, n_hidden))\n",
    "bnmean_running = torch.zeros((1, n_hidden))\n",
    "bnstd_running = torch.ones((1, n_hidden))\n",
    "\n",
    "parameters = [C, W1, W2, b2, bngain, bnbias] # removed bias b1\n",
    "print(sum(p.nelement() for p in parameters)) # number of parameters in total\n",
    "for p in parameters:\n",
    "  p.requires_grad = True"
   ]
  },
  {
   "cell_type": "code",
   "execution_count": 7,
   "id": "22c957c9-3786-4f7c-9c83-8660e90cee81",
   "metadata": {},
   "outputs": [
    {
     "name": "stdout",
     "output_type": "stream",
     "text": [
      "      0/ 200000: 3.3147\n",
      "  10000/ 200000: 2.1984\n",
      "  20000/ 200000: 2.3375\n",
      "  30000/ 200000: 2.4359\n",
      "  40000/ 200000: 2.0119\n",
      "  50000/ 200000: 2.2595\n",
      "  60000/ 200000: 2.4775\n",
      "  70000/ 200000: 2.1020\n",
      "  80000/ 200000: 2.2788\n",
      "  90000/ 200000: 2.1862\n",
      " 100000/ 200000: 1.9474\n",
      " 110000/ 200000: 2.3010\n",
      " 120000/ 200000: 1.9837\n",
      " 130000/ 200000: 2.4523\n",
      " 140000/ 200000: 2.3839\n",
      " 150000/ 200000: 2.1987\n",
      " 160000/ 200000: 1.9733\n",
      " 170000/ 200000: 1.8668\n",
      " 180000/ 200000: 1.9973\n",
      " 190000/ 200000: 1.8347\n"
     ]
    }
   ],
   "source": [
    "# same optimization as last time\n",
    "max_steps = 200000\n",
    "batch_size = 32\n",
    "lossi = []\n",
    "epsilon = 1\n",
    "\n",
    "for i in range(max_steps):\n",
    "  \n",
    "  # minibatch construct\n",
    "  ix = torch.randint(0, Xtr.shape[0], (batch_size,), generator=g)\n",
    "  Xb, Yb = Xtr[ix], Ytr[ix] # batch X,Y\n",
    "\n",
    "  # forward pass\n",
    "  emb = C[Xb] # embed the characters into vectors\n",
    "  embcat = emb.view(emb.shape[0], -1) # concatenate the vectors\n",
    "  # Linear layer\n",
    "  hpreact = embcat @ W1 # + b1 # hidden layer pre-activation\n",
    "  # BatchNorm layer\n",
    "  # -------------------------------------------------------------\n",
    "  bnmeani = hpreact.mean(0, keepdim=True)\n",
    "  bnstdi = hpreact.std(0, keepdim=True)\n",
    "  hpreact = bngain * (hpreact - bnmeani) / (bnstdi + epsilon) + bnbias\n",
    "  with torch.no_grad():\n",
    "    bnmean_running = 0.999 * bnmean_running + 0.001 * bnmeani\n",
    "    bnstd_running = 0.999 * bnstd_running + 0.001 * bnstdi\n",
    "  # -------------------------------------------------------------\n",
    "  # Non-linearity\n",
    "  h = torch.tanh(hpreact) # hidden layer\n",
    "  logits = h @ W2 + b2 # output layer\n",
    "  loss = F.cross_entropy(logits, Yb) # loss function\n",
    "  \n",
    "  # backward pass\n",
    "  for p in parameters:\n",
    "    p.grad = None\n",
    "  loss.backward()\n",
    "  \n",
    "  # update\n",
    "  lr = 0.1 if i < 100000 else 0.01 # step learning rate decay\n",
    "  for p in parameters:\n",
    "    p.data += -lr * p.grad\n",
    "\n",
    "  # track stats\n",
    "  if i % 10000 == 0: # print every once in a while\n",
    "    print(f'{i:7d}/{max_steps:7d}: {loss.item():.4f}')\n",
    "  lossi.append(loss.log10().item())\n",
    "  "
   ]
  },
  {
   "cell_type": "code",
   "execution_count": 8,
   "id": "8da98f6b-f58e-4d0c-9a92-d6e1a2e7a4e9",
   "metadata": {},
   "outputs": [
    {
     "data": {
      "text/plain": [
       "<matplotlib.image.AxesImage at 0x7f67ad9a77d0>"
      ]
     },
     "execution_count": 8,
     "metadata": {},
     "output_type": "execute_result"
    },
    {
     "data": {
      "image/png": "[encoded data removed]",
      "text/plain": [
       "<Figure size 2000x1000 with 1 Axes>"
      ]
     },
     "metadata": {},
     "output_type": "display_data"
    }
   ],
   "source": [
    "plt.figure(figsize=(20,10))\n",
    "plt.imshow(h.abs() > 0.99, cmap='gray', interpolation='nearest')"
   ]
  },
  {
   "cell_type": "code",
   "execution_count": 9,
   "id": "0c061154-a8b1-4800-9c45-326b5f43ad00",
   "metadata": {},
   "outputs": [
    {
     "data": {
      "text/plain": [
       "(array([463., 241., 185., 165., 147., 111.,  97., 124.,  93., 102., 107.,\n",
       "         76., 107.,  95., 108., 113.,  89.,  96., 112.,  93., 118.,  85.,\n",
       "         67., 132., 111., 112., 106., 107.,  85.,  92., 103.,  80.,  93.,\n",
       "         91.,  81.,  93., 120.,  82., 118., 110., 103., 103., 110., 114.,\n",
       "        114., 135., 166., 171., 242., 432.]),\n",
       " array([-9.99993980e-01, -9.59995644e-01, -9.19997308e-01, -8.79998972e-01,\n",
       "        -8.40000637e-01, -8.00002301e-01, -7.60003965e-01, -7.20005629e-01,\n",
       "        -6.80007293e-01, -6.40008957e-01, -6.00010622e-01, -5.60012286e-01,\n",
       "        -5.20013950e-01, -4.80015614e-01, -4.40017278e-01, -4.00018942e-01,\n",
       "        -3.60020607e-01, -3.20022271e-01, -2.80023935e-01, -2.40025599e-01,\n",
       "        -2.00027263e-01, -1.60028927e-01, -1.20030591e-01, -8.00322556e-02,\n",
       "        -4.00339198e-02, -3.55839729e-05,  3.99627519e-02,  7.99610877e-02,\n",
       "         1.19959424e-01,  1.59957759e-01,  1.99956095e-01,  2.39954431e-01,\n",
       "         2.79952767e-01,  3.19951103e-01,  3.59949439e-01,  3.99947774e-01,\n",
       "         4.39946110e-01,  4.79944446e-01,  5.19942782e-01,  5.59941118e-01,\n",
       "         5.99939454e-01,  6.39937789e-01,  6.79936125e-01,  7.19934461e-01,\n",
       "         7.59932797e-01,  7.99931133e-01,  8.39929469e-01,  8.79927804e-01,\n",
       "         9.19926140e-01,  9.59924476e-01,  9.99922812e-01]),\n",
       " <BarContainer object of 50 artists>)"
      ]
     },
     "execution_count": 9,
     "metadata": {},
     "output_type": "execute_result"
    },
    {
     "data": {
      "image/png": "[encoded data removed]",
      "text/plain": [
       "<Figure size 640x480 with 1 Axes>"
      ]
     },
     "metadata": {},
     "output_type": "display_data"
    }
   ],
   "source": [
    "plt.hist(h.view(-1).tolist(), 50)"
   ]
  },
  {
   "cell_type": "code",
   "execution_count": 10,
   "id": "9c230cbb-d7c6-4e13-a294-ac8c44139d60",
   "metadata": {},
   "outputs": [
    {
     "name": "stdout",
     "output_type": "stream",
     "text": [
      "tensor(0.0061) tensor(1.0032)\n",
      "tensor(-0.0029) tensor(1.0142)\n"
     ]
    },
    {
     "data": {
      "text/plain": [
       "(array([2.01791253e-05, 4.03582506e-05, 2.01791253e-05, 8.07165012e-05,\n",
       "        1.21074752e-04, 3.02686880e-04, 4.43940757e-04, 9.68598014e-04,\n",
       "        1.47307615e-03, 2.64346541e-03, 4.54030319e-03, 8.25326225e-03,\n",
       "        1.32778644e-02, 2.16723806e-02, 3.52125736e-02, 5.17998146e-02,\n",
       "        8.02523813e-02, 1.21498513e-01, 1.72592059e-01, 2.33593554e-01,\n",
       "        3.03413328e-01, 3.64455182e-01, 4.14378338e-01, 4.24588975e-01,\n",
       "        4.05660956e-01, 3.58623415e-01, 2.89691523e-01, 2.25885129e-01,\n",
       "        1.63793960e-01, 1.15545671e-01, 7.93241416e-02, 5.36361150e-02,\n",
       "        3.34771689e-02, 2.19145301e-02, 1.37823426e-02, 7.60753024e-03,\n",
       "        4.54030319e-03, 3.00668967e-03, 1.59415090e-03, 9.68598014e-04,\n",
       "        4.84299007e-04, 3.43045130e-04, 1.41253877e-04, 6.05373759e-05,\n",
       "        4.03582506e-05, 0.00000000e+00, 0.00000000e+00, 4.03582506e-05,\n",
       "        0.00000000e+00, 2.01791253e-05]),\n",
       " array([-5.81515312, -5.56737231, -5.3195915 , -5.07181069, -4.82402988,\n",
       "        -4.57624907, -4.32846827, -4.08068746, -3.83290665, -3.58512584,\n",
       "        -3.33734503, -3.08956422, -2.84178341, -2.5940026 , -2.34622179,\n",
       "        -2.09844098, -1.85066017, -1.60287936, -1.35509855, -1.10731774,\n",
       "        -0.85953693, -0.61175612, -0.36397532, -0.11619451,  0.1315863 ,\n",
       "         0.37936711,  0.62714792,  0.87492873,  1.12270954,  1.37049035,\n",
       "         1.61827116,  1.86605197,  2.11383278,  2.36161359,  2.6093944 ,\n",
       "         2.85717521,  3.10495602,  3.35273683,  3.60051764,  3.84829844,\n",
       "         4.09607925,  4.34386006,  4.59164087,  4.83942168,  5.08720249,\n",
       "         5.3349833 ,  5.58276411,  5.83054492,  6.07832573,  6.32610654,\n",
       "         6.57388735]),\n",
       " <BarContainer object of 50 artists>)"
      ]
     },
     "execution_count": 10,
     "metadata": {},
     "output_type": "execute_result"
    },
    {
     "data": {
      "image/png": "[encoded data removed]",
      "text/plain": [
       "<Figure size 2000x500 with 2 Axes>"
      ]
     },
     "metadata": {},
     "output_type": "display_data"
    }
   ],
   "source": [
    "scaling_factor = 10 ** 0.5\n",
    "x = torch.randn(1000, 10)\n",
    "w = torch.randn(10, 200) / scaling_factor\n",
    "y = x @ w\n",
    "print(x.mean(), x.std())\n",
    "print(y.mean(), y.std())\n",
    "plt.figure(figsize=(20,5))\n",
    "plt.subplot(121)\n",
    "plt.hist(x.view(-1).tolist(), 50, density=True)\n",
    "plt.subplot(122)\n",
    "plt.hist(y.view(-1).tolist(), 50, density=True)"
   ]
  },
  {
   "cell_type": "code",
   "execution_count": 11,
   "id": "d5e251f3-bd88-429e-b67e-85fc6fc7943c",
   "metadata": {},
   "outputs": [
    {
     "data": {
      "text/plain": [
       "[<matplotlib.lines.Line2D at 0x7f67ac6c37a0>]"
      ]
     },
     "execution_count": 11,
     "metadata": {},
     "output_type": "execute_result"
    },
    {
     "data": {
      "image/png": "[encoded data removed]",
      "text/plain": [
       "<Figure size 640x480 with 1 Axes>"
      ]
     },
     "metadata": {},
     "output_type": "display_data"
    }
   ],
   "source": [
    "plt.plot(lossi)"
   ]
  },
  {
   "cell_type": "code",
   "execution_count": 12,
   "id": "a13b7b0c-1dcf-4c6d-bb1c-b3eb4367c93c",
   "metadata": {},
   "outputs": [],
   "source": [
    "# calibrate batch norm at the end of training\n",
    "\n",
    "with torch.no_grad():\n",
    "    emb = C[Xtr]\n",
    "    embcat = emb.view(emb.shape[0], -1)\n",
    "    hpreact = embcat @ W1 # + b1\n",
    "    # measure mean and std over the entire training set\n",
    "    bnmean = hpreact.mean(0, keepdim=True)\n",
    "    bnstd = hpreact.std(0, keepdim=True)"
   ]
  },
  {
   "cell_type": "code",
   "execution_count": 15,
   "id": "502e9cea-8ce5-468c-80d5-b31d31ebb7d3",
   "metadata": {},
   "outputs": [
    {
     "name": "stdout",
     "output_type": "stream",
     "text": [
      "train 2.06659197807312\n",
      "val 2.1050572395324707\n"
     ]
    }
   ],
   "source": [
    "@torch.no_grad() # this decorator disables gradient tracking\n",
    "def split_loss(split):\n",
    "  x,y = {\n",
    "    'train': (Xtr, Ytr),\n",
    "    'val': (Xdev, Ydev),\n",
    "    'test': (Xte, Yte),\n",
    "  }[split]\n",
    "  emb = C[x] # (N, block_size, n_embd)\n",
    "  embcat = emb.view(emb.shape[0], -1) # concat into (N, block_size * n_embd)\n",
    "  hpreact = embcat @ W1 # + b1\n",
    "  hpreact = bngain * (hpreact - bnmean_running) / bnstd_running + bnbias\n",
    "  h = torch.tanh(hpreact) # (N, n_hidden)\n",
    "  logits = h @ W2 + b2 # (N, vocab_size)\n",
    "  loss = F.cross_entropy(logits, y)\n",
    "  print(split, loss.item())\n",
    "\n",
    "split_loss('train')\n",
    "split_loss('val')"
   ]
  },
  {
   "cell_type": "code",
   "execution_count": 14,
   "id": "e389ecae-5be2-42af-8377-2447d71fe6b9",
   "metadata": {},
   "outputs": [
    {
     "name": "stdout",
     "output_type": "stream",
     "text": [
      "briangmyazziyes.\n",
      "bdulyah.\n",
      "briyas.\n",
      "brdrner.\n",
      "sherkodrlithlyllsenleigh.\n",
      "santhannchyziohmkrrnn.\n",
      "shdumrishimnest.\n",
      "jadestly.\n",
      "prgbdulfuubdgghder.\n",
      "jaquezmashburjahsis.\n",
      "dashby.\n",
      "sadya.\n",
      "sus.\n",
      "zakquslutel.\n",
      "subristia.\n",
      "sumprrdnn.\n",
      "quloeonandphillsamreyxa.\n",
      "hunton.\n",
      "bdasirfalvinnwrllwildtalfr.\n",
      "tandysestss.\n"
     ]
    }
   ],
   "source": [
    "# sample from the model\n",
    "g = torch.Generator().manual_seed(2147483647 + 10)\n",
    "\n",
    "for _ in range(20):\n",
    "    \n",
    "    out = []\n",
    "    context = [0] * block_size # initialize with all ...\n",
    "    while True:\n",
    "      # forward pass the neural net\n",
    "      emb = C[torch.tensor([context])] # (1,block_size,n_embd)\n",
    "      x = emb.view(emb.shape[0], -1) # concatenate the vectors\n",
    "      h = torch.tanh(x @ W1 + b1)\n",
    "      logits = h @ W2 + b2\n",
    "      probs = F.softmax(logits, dim=1)\n",
    "      # sample from the distribution\n",
    "      ix = torch.multinomial(probs, num_samples=1, generator=g).item()\n",
    "      # shift the context window and track the samples\n",
    "      context = context[1:] + [ix]\n",
    "      out.append(ix)\n",
    "      # if we sample the special '.' token, break\n",
    "      if ix == 0:\n",
    "        break\n",
    "    \n",
    "    print(''.join(itos[i] for i in out)) # decode and print the generated word"
   ]
  },
  {
   "cell_type": "code",
   "execution_count": null,
   "id": "cc626497-5aae-4edf-b4d3-c656f50d11ed",
   "metadata": {},
   "outputs": [],
   "source": [
    "class Linear:\n",
    "    def __init__(self, fan_in, fan_out, bias=True):\n",
    "        self.weight = torch.randn((fan_in, fan_out), generator=g) / fan_in**0.5\n",
    "        self.bias = torch.zeros(fan_out) if bias else None\n",
    "\n",
    "    def __call__(self, x):\n",
    "        self.out = x @ self.weight\n",
    "        if self.bias is not None:\n",
    "            self.out += self.bias\n",
    "        return self.out\n",
    "\n",
    "    def parameters(self):\n",
    "        return [self.weight] + ([] if self.bias is None else [self.bias])\n",
    "\n",
    "class BatchNorm1d:\n",
    "    def __init__(self):\n",
    "        return\n",
    "\n"
   ]
  }
 ],
 "metadata": {
  "kernelspec": {
   "display_name": "Python 3 (ipykernel)",
   "language": "python",
   "name": "python3"
  },
  "language_info": {
   "codemirror_mode": {
    "name": "ipython",
    "version": 3
   },
   "file_extension": ".py",
   "mimetype": "text/x-python",
   "name": "python",
   "nbconvert_exporter": "python",
   "pygments_lexer": "ipython3",
   "version": "3.12.5"
  }
 },
 "nbformat": 4,
 "nbformat_minor": 5
}
